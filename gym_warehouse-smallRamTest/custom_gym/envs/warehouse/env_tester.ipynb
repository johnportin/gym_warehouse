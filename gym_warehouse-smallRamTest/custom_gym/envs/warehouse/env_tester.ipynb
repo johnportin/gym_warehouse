{
 "cells": [
  {
   "cell_type": "code",
   "execution_count": 1,
   "metadata": {},
   "outputs": [],
   "source": [
    "import numpy as np\n",
    "from simulation import Simulation\n",
    "\n",
    "WAREHOUSE_DIM = 10\n",
    "N_FKLF = 5\n",
    "JOBLIST_LEN = 10\n",
    "TASK_LEN = 3\n",
    "\n",
    "mySim = Simulation(X_dim = WAREHOUSE_DIM,\n",
    "                   Y_dim = WAREHOUSE_DIM,\n",
    "                   n_forklifts = N_FKLF,\n",
    "                   joblist_n = JOBLIST_LEN,\n",
    "                   task_n = TASK_LEN)"
   ]
  },
  {
   "cell_type": "code",
   "execution_count": 3,
   "metadata": {},
   "outputs": [
    {
     "name": "stdout",
     "output_type": "stream",
     "text": [
      "Receiving [array([[0, 0],\n",
      "       [2, 8],\n",
      "       [5, 3]]), array([[0, 0],\n",
      "       [1, 9],\n",
      "       [7, 0]]), array([[0, 0],\n",
      "       [4, 7]]), array([[0, 0],\n",
      "       [7, 5]]), array([[0, 0],\n",
      "       [8, 8],\n",
      "       [1, 1],\n",
      "       [2, 8]]), array([[0, 0],\n",
      "       [2, 3]])]\n",
      "Lab [array([[4, 3],\n",
      "       [0, 9]]), array([[8, 4],\n",
      "       [0, 9]]), array([[3, 3],\n",
      "       [0, 9]]), array([[0, 5],\n",
      "       [0, 9]])]\n",
      "Shipping []\n"
     ]
    }
   ],
   "source": [
    "for key,item in mySim.buckets.items():\n",
    "    print(key,item)"
   ]
  },
  {
   "cell_type": "code",
   "execution_count": 3,
   "metadata": {},
   "outputs": [
    {
     "data": {
      "text/plain": [
       "8192"
      ]
     },
     "execution_count": 3,
     "metadata": {},
     "output_type": "execute_result"
    }
   ],
   "source": [
    "4**6 * 2"
   ]
  },
  {
   "cell_type": "code",
   "execution_count": null,
   "metadata": {},
   "outputs": [],
   "source": []
  }
 ],
 "metadata": {
  "kernelspec": {
   "display_name": "Python 3",
   "language": "python",
   "name": "python3"
  },
  "language_info": {
   "codemirror_mode": {
    "name": "ipython",
    "version": 3
   },
   "file_extension": ".py",
   "mimetype": "text/x-python",
   "name": "python",
   "nbconvert_exporter": "python",
   "pygments_lexer": "ipython3",
   "version": "3.8.3"
  }
 },
 "nbformat": 4,
 "nbformat_minor": 4
}
